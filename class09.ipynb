{
 "cells": [
  {
   "cell_type": "markdown",
   "metadata": {
    "id": "834t49zymVdO"
   },
   "source": [
    "# In-class exercises Class 09\n",
    "\n",
    "---\n",
    "\n",
    "Often times we will want to read data from a file with our python program.  Obviously we don't want to type all of the date in by hand every time that we run our program!!  Data can be in my types of formats, but today we will focus on text files.  These are simple ascii files that can contain any characters (letter and numbers) and are human readable.  That is, if you look at the file, you will understand what is stored there.  \n",
    "\n",
    "\n"
   ]
  },
  {
   "cell_type": "markdown",
   "metadata": {},
   "source": [
    "## Running Linux command-line programs from within Python \n",
    "\n",
    "Before we get started, let me show you a trick to run Linux commands from inside of Python.  We can use the \"os\" module which stands for Operating System.  We can run linux command-line programs with the \"os.popen\" command, and use the \".read()\" python command to store the returned information in a variable.  I'll call it \"reply\".  \n",
    "\n",
    "This can be useful if you want to have access to information inside your program about the current directory, or the Python environment. "
   ]
  },
  {
   "cell_type": "code",
   "execution_count": 53,
   "metadata": {},
   "outputs": [
    {
     "name": "stdout",
     "output_type": "stream",
     "text": [
      "total 676\n",
      "drwxr-sr-x 4 rcg6p users   6144 Sep 26 10:56 .\n",
      "drwxr-sr-x 3 rcg6p users    512 Sep 26 10:27 ..\n",
      "-rw-r----- 1 rcg6p users  17546 Sep 26 10:56 class09.ipynb\n",
      "-rw-r--r-- 1 rcg6p users  47099 Sep 26 10:09 co2_mm_mlo0.txt\n",
      "-rw-r----- 1 rcg6p users    104 Sep 26 10:09 data.dat\n",
      "drwxr-sr-x 8 rcg6p users   5632 Sep 26 10:13 .git\n",
      "-rw-r--r-- 1 rcg6p users  69632 Sep 26 10:34 image2.png\n",
      "-rw-r--r-- 1 rcg6p users 479505 Sep 26 10:36 image3.png\n",
      "-rw-r--r-- 1 rcg6p users   9155 Sep 26 10:21 index.jpg\n",
      "drwxr-sr-x 2 rcg6p users    512 Sep 26 10:19 .ipynb_checkpoints\n",
      "-rw-r--r-- 1 rcg6p users     68 Sep 26 10:53 output2.txt\n",
      "-rw-r--r-- 1 rcg6p users    150 Sep 26 10:41 output3.txt\n",
      "-rw-r--r-- 1 rcg6p users     68 Sep 26 10:52 output.txt\n",
      "-rw-r--r-- 1 rcg6p users    251 Sep 26 10:13 README.md\n",
      "\n"
     ]
    }
   ],
   "source": [
    "import os\n",
    "reply=os.popen(\"ls -al\").read()\n",
    "print(reply)\n"
   ]
  },
  {
   "cell_type": "markdown",
   "metadata": {},
   "source": [
    "Do you understand what this did?  \n",
    "\n",
    "Can you see \"data.dat\"?  If so, great.  We can get to work!\n",
    "\n",
    "Let's look at it...  One way to do it (definitely not the best way!) is with the os.popen command again..."
   ]
  },
  {
   "cell_type": "code",
   "execution_count": 54,
   "metadata": {},
   "outputs": [
    {
     "name": "stdout",
     "output_type": "stream",
     "text": [
      "::::::::::::::\n",
      "data.dat\n",
      "::::::::::::::\n",
      "Iris-setosa\t5.1  3.5  1.4  0.2\n",
      "Iris-versicolor 7.0  3.2  4.7  1.4  \n",
      "Iris-virginica\t6.3  3.3  6.0  2.5  \n",
      "\n"
     ]
    }
   ],
   "source": [
    "\n",
    "reply=os.popen(\"more data.dat\").read()\n",
    "print(reply)\n"
   ]
  },
  {
   "cell_type": "markdown",
   "metadata": {},
   "source": [
    "This is a very simple data file, have you heard of the Iris?  It is a flower:\n",
    "<br>\n",
    "![Image](index.jpg) \n",
    "<br>\n",
    "In our dataset there are 5 collumns:\n",
    "1. class\n",
    "2. sepal length in cm\n",
    "3. sepal width in cm\n",
    "4. petal length in cm\n",
    "5. petal width in cm\n",
    "\n",
    "\n",
    "## Reading files with Python\n",
    "\n",
    "We will start by learning how to read a very simple test file.  I named it data.dat and you just verified that it was part of your repository.   You could read it using \"os.popen\" like we did above, but Python has much better file input/output tools that that!   We are going to play with this simple data file.  Let's first see *the right way* to open the file for reading in Python:"
   ]
  },
  {
   "cell_type": "code",
   "execution_count": 55,
   "metadata": {},
   "outputs": [
    {
     "name": "stdout",
     "output_type": "stream",
     "text": [
      "Iris-setosa\t5.1  3.5  1.4  0.2\n",
      "Iris-versicolor 7.0  3.2  4.7  1.4  \n",
      "Iris-virginica\t6.3  3.3  6.0  2.5  \n",
      "\n"
     ]
    }
   ],
   "source": [
    "f=open('data.dat','r')  #Open data.dat for reading 'r' --> the \"file handle\" is returned can we call it \"f\"\n",
    "f.name  #We can get the name of the file from the file handle\n",
    "data=f.read()  #read all of the data from the file\n",
    "print(data)   "
   ]
  },
  {
   "cell_type": "markdown",
   "metadata": {},
   "source": [
    "Great!  That was easy (like so many things in python!) we now know how to read in the contents of a file!  Now, we just have a string of the data that includes the full contents of the file, and we can do anything to it that we could do to a string!  \n",
    "<br> But, our file includes some strings and some data and clearly each line corresponds to attributes of an Iris class.  So, we can read this in a smarter way!  \n",
    "\n",
    "BTW:  When we are done reading a file, *we should always close it*:"
   ]
  },
  {
   "cell_type": "code",
   "execution_count": 56,
   "metadata": {},
   "outputs": [],
   "source": [
    "f.close()"
   ]
  },
  {
   "cell_type": "markdown",
   "metadata": {},
   "source": [
    "Our file is clearly organized by lines, there is a nice function to read in the file putting each line as a string object in a list:"
   ]
  },
  {
   "cell_type": "code",
   "execution_count": 57,
   "metadata": {},
   "outputs": [
    {
     "name": "stdout",
     "output_type": "stream",
     "text": [
      "Our file, data.dat, has 3 lines of text.\n",
      "\n"
     ]
    }
   ],
   "source": [
    "f=open('data.dat','r') \n",
    "data_list=f.readlines()\n",
    "print(f\"Our file, {f.name}, has {len(data_list)} lines of text.\\n\")\n",
    "f.close()"
   ]
  },
  {
   "cell_type": "markdown",
   "metadata": {},
   "source": [
    "See how I checked how many lines of date were in the file?  Now, if we wanted, we could do something with each line in the file."
   ]
  },
  {
   "cell_type": "code",
   "execution_count": 58,
   "metadata": {},
   "outputs": [
    {
     "name": "stdout",
     "output_type": "stream",
     "text": [
      "[['Iris-setosa', 5.1, 3.5, 1.4, 0.2], ['Iris-versicolor', 7.0, 3.2, 4.7, 1.4], ['Iris-virginica', 6.3, 3.3, 6.0, 2.5]]\n"
     ]
    }
   ],
   "source": [
    "mydat=[]\n",
    "for line in data_list:  #Loop over data list made from lines in file\n",
    "    row=[]\n",
    "    for i in line.strip().split(): #loop over the independent entries in the row after splitting it up\n",
    "        row.append(i)  #append the entries to the row list\n",
    "    for j in (1,2,3,4): #Loop over the 4 floats\n",
    "        row[j]=float(row[j])  #Convert the strings to floats\n",
    "    mydat.append(row)  #Append the row to mydat\n",
    "print(mydat)"
   ]
  },
  {
   "cell_type": "markdown",
   "metadata": {},
   "source": [
    "Now we have access to the data in file data.dat.  The basic process would work the same for any file where the collumns are seperated by spaces.  What would you change if they were seperated by commas?  "
   ]
  },
  {
   "cell_type": "markdown",
   "metadata": {},
   "source": [
    "## **EXERCISE 1**:  \n",
    "<span style=\"color:red\"> Which line would you change if they were seperated by commas?   </red>"
   ]
  },
  {
   "cell_type": "markdown",
   "metadata": {},
   "source": [
    "<span style=\"color:red\"> 1) Answer here.     </red>"
   ]
  },
  {
   "cell_type": "markdown",
   "metadata": {},
   "source": [
    "It turns out that there is a much better way to read in a file line-by-line.  With f.readlines(), you read the entire file into memory.  This is fine for our simple file, but what if the file had 100,000 lines of code!  Huge memory footprint!  The with command allows you to convert a file one line at a time, since file handles are iterable objects.  Observe:"
   ]
  },
  {
   "cell_type": "code",
   "execution_count": 59,
   "metadata": {},
   "outputs": [
    {
     "name": "stdout",
     "output_type": "stream",
     "text": [
      "[['Iris-setosa', 5.1, 3.5, 1.4, 0.2], ['Iris-versicolor', 7.0, 3.2, 4.7, 1.4], ['Iris-virginica', 6.3, 3.3, 6.0, 2.5]]\n"
     ]
    }
   ],
   "source": [
    "mydat=[]\n",
    "with open(\"data.dat\") as f:\n",
    "    \n",
    "    for line in f:\n",
    "        row=line.strip().split()\n",
    "        #print(row)\n",
    "        for j in (1,2,3,4): #Loop over the 4 floats\n",
    "            row[j]=float(row[j])  #Convert the strings to floats\n",
    "        mydat.append(row)\n",
    "print(mydat)"
   ]
  },
  {
   "cell_type": "markdown",
   "metadata": {},
   "source": [
    "With automatically closes the file when done, and reading one line at a time means that we don't need to store the entire file in memory as strings.  "
   ]
  },
  {
   "cell_type": "markdown",
   "metadata": {},
   "source": [
    "Now we have python lists, but let's put them into a numpy array."
   ]
  },
  {
   "cell_type": "code",
   "execution_count": 60,
   "metadata": {},
   "outputs": [
    {
     "name": "stdout",
     "output_type": "stream",
     "text": [
      "[['Iris-setosa' '5.1' '3.5' '1.4' '0.2']\n",
      " ['Iris-versicolor' '7.0' '3.2' '4.7' '1.4']\n",
      " ['Iris-virginica' '6.3' '3.3' '6.0' '2.5']]\n"
     ]
    }
   ],
   "source": [
    "import numpy as np\n",
    "a=np.array(mydat)\n",
    "print(a)\n"
   ]
  },
  {
   "cell_type": "markdown",
   "metadata": {},
   "source": [
    "## **EXERCISE 2**:  \n",
    "<span style=\"color:red\"> Why are they strings?   </red>"
   ]
  },
  {
   "cell_type": "markdown",
   "metadata": {},
   "source": [
    "2) Answer here.  "
   ]
  },
  {
   "cell_type": "markdown",
   "metadata": {},
   "source": [
    "## **EXERCISE 3**:  \n",
    "<span style=\"color:red\"> Extract a numpy array of the sepal length as a float, in cm, and print the array, the length of the array, the average value, and the standard deviation to the screen. Hint -numpy has a built-in tool for calculating average and standard deviation! Use the documentation!  </red>"
   ]
  },
  {
   "cell_type": "code",
   "execution_count": 72,
   "metadata": {},
   "outputs": [],
   "source": [
    "#3) write the code here"
   ]
  },
  {
   "cell_type": "markdown",
   "metadata": {},
   "source": [
    "There are many built-in tools for reading in data with numpy, to make it easier.  The most common data format is several collums of numeric data.  Numpy has a convenient \"loadtxt\" function for reading in this data.  The file \"co2_mm_mlo.txt\", contains the data since 1958 of the monthly mean CO2 mole fraction.  The mole fraction of CO2, expressed as parts per million (ppm) is the number of molecules of CO2 in every one million molecules of dried air (water vapor removed). Let's see what a few lines of data look like."
   ]
  },
  {
   "cell_type": "markdown",
   "metadata": {},
   "source": [
    "![Image](image2.png) "
   ]
  },
  {
   "cell_type": "markdown",
   "metadata": {},
   "source": [
    "We can read in the data from this file using the np.loadtxt() function:"
   ]
  },
  {
   "cell_type": "code",
   "execution_count": 73,
   "metadata": {},
   "outputs": [
    {
     "name": "stdout",
     "output_type": "stream",
     "text": [
      "(675, 7)\n"
     ]
    }
   ],
   "source": [
    "co2_data=np.loadtxt(\"co2_mm_mlo0.txt\")\n",
    "shape=np.shape(co2_data)\n",
    "print(shape)"
   ]
  },
  {
   "cell_type": "markdown",
   "metadata": {},
   "source": [
    "So, our file has 675 rows of data each with 7 collums.\n",
    "\n",
    "### Writing Files in Python\n",
    "\n",
    "So, now we know two ways how to read data in.  Let's learn how to write to a file.  Writing to a file is very similar printing to the screen, but we are printing to the file.  First we need to open the file for writing.  Then we can write our strings to the file before closing.  We can make our strings the normal ways in python (fstrings, or other string manipulation).  The old way is using the \"+\" operator or format codes:\n",
    "\n",
    "![Image](image3.png) \n",
    "\n",
    "For example:"
   ]
  },
  {
   "cell_type": "code",
   "execution_count": 63,
   "metadata": {},
   "outputs": [
    {
     "name": "stdout",
     "output_type": "stream",
     "text": [
      "You could make a string like this: int:20 string:test float 37.23\n"
     ]
    }
   ],
   "source": [
    "myint=20\n",
    "mystr=\"test\"\n",
    "myfloat=37.23454\n",
    "mystring=\"You could make a string like this: int:%d string:%s float %4.2f\" %(myint,mystr,myfloat)\n",
    "print(mystring)"
   ]
  },
  {
   "cell_type": "markdown",
   "metadata": {},
   "source": [
    "The new way is to use fstrings:"
   ]
  },
  {
   "cell_type": "code",
   "execution_count": 64,
   "metadata": {},
   "outputs": [
    {
     "name": "stdout",
     "output_type": "stream",
     "text": [
      "You could make a string like this: int:20 string:test float 37.23454\n"
     ]
    }
   ],
   "source": [
    "mystring=f\"You could make a string like this: int:{myint} string:{mystr} float {myfloat}\"\n",
    "print(mystring)"
   ]
  },
  {
   "cell_type": "markdown",
   "metadata": {},
   "source": [
    "fstrings are easier, in that Python figures out the types for you.  \n",
    "\n",
    "Now, let's write our string to a file.  Now, when we open the file, we specify 'w' for write or 'a' for append:"
   ]
  },
  {
   "cell_type": "code",
   "execution_count": 65,
   "metadata": {},
   "outputs": [],
   "source": [
    "f_out=open('output.txt','w')\n",
    "f_out.write(mystring)\n",
    "f_out.close()"
   ]
  },
  {
   "cell_type": "code",
   "execution_count": 66,
   "metadata": {},
   "outputs": [
    {
     "name": "stdout",
     "output_type": "stream",
     "text": [
      "You could make a string like this: int:20 string:test float 37.23454\n"
     ]
    }
   ],
   "source": [
    "f_in=open('output.txt','r')\n",
    "reply=f_in.read()\n",
    "f_in.close()\n",
    "print(reply)\n"
   ]
  },
  {
   "cell_type": "markdown",
   "metadata": {},
   "source": [
    "As noted above, it is prefferable to use the \"with\" command:"
   ]
  },
  {
   "cell_type": "code",
   "execution_count": 67,
   "metadata": {},
   "outputs": [],
   "source": [
    "with open('output2.txt','w') as f_out:\n",
    "    f_out.write(mystring)\n",
    "    "
   ]
  },
  {
   "cell_type": "code",
   "execution_count": 68,
   "metadata": {},
   "outputs": [
    {
     "name": "stdout",
     "output_type": "stream",
     "text": [
      "You could make a string like this: int:20 string:test float 37.23454\n"
     ]
    }
   ],
   "source": [
    "f_in=open('output2.txt','r')\n",
    "reply=f_in.read()\n",
    "f_in.close()\n",
    "print(reply)"
   ]
  },
  {
   "cell_type": "markdown",
   "metadata": {},
   "source": [
    "That works too!  \n",
    "\n",
    "For writing data to a file, you can format a string and write it to a file one line at a time using loops, or you can use a numpy function called \"savetxt\":"
   ]
  },
  {
   "cell_type": "code",
   "execution_count": 69,
   "metadata": {},
   "outputs": [],
   "source": [
    "x=np.linspace(1,3,3)\n",
    "y=x**3\n",
    "np.savetxt(\"output3.txt\",(x,y))\n"
   ]
  },
  {
   "cell_type": "markdown",
   "metadata": {},
   "source": [
    "## EXERCISE 4:  \n",
    "<span style=\"color:red\"> Explain what the \"linspace\" code above did: </red>**: "
   ]
  },
  {
   "cell_type": "markdown",
   "metadata": {},
   "source": [
    "4)  Put your explanation here...  "
   ]
  },
  {
   "cell_type": "code",
   "execution_count": 70,
   "metadata": {},
   "outputs": [
    {
     "name": "stdout",
     "output_type": "stream",
     "text": [
      "1.000000000000000000e+00 2.000000000000000000e+00 3.000000000000000000e+00\n",
      "1.000000000000000000e+00 8.000000000000000000e+00 2.700000000000000000e+01\n",
      "\n"
     ]
    }
   ],
   "source": [
    "f_in=open('output3.txt','r')\n",
    "reply=f_in.read()\n",
    "f_in.close()\n",
    "print(reply)"
   ]
  },
  {
   "cell_type": "markdown",
   "metadata": {},
   "source": [
    "## EXERCISE 5\n",
    "<span style=\"color:red\"> That output is ugly!  Yuck!  Use Google or the documentation in your book to figure out how to write this to a file in a more reasonable format.  Also include a \"comment\" line at the top of the file. Write to your file, then read it back in and print it to the screen.  </red>"
   ]
  },
  {
   "cell_type": "code",
   "execution_count": 71,
   "metadata": {},
   "outputs": [],
   "source": [
    "# 5) write the code here"
   ]
  },
  {
   "cell_type": "code",
   "execution_count": null,
   "metadata": {},
   "outputs": [],
   "source": []
  }
 ],
 "metadata": {
  "kernelspec": {
   "display_name": "Python 3 (ipykernel)",
   "language": "python",
   "name": "python3"
  },
  "language_info": {
   "codemirror_mode": {
    "name": "ipython",
    "version": 3
   },
   "file_extension": ".py",
   "mimetype": "text/x-python",
   "name": "python",
   "nbconvert_exporter": "python",
   "pygments_lexer": "ipython3",
   "version": "3.8.8"
  }
 },
 "nbformat": 4,
 "nbformat_minor": 4
}
